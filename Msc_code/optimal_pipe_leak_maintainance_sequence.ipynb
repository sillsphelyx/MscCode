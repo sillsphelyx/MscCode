{
 "cells": [
  {
   "cell_type": "code",
   "execution_count": 1,
   "metadata": {},
   "outputs": [],
   "source": [
    "import numpy as np\n",
    "import pandas as pd\n",
    "from scipy.optimize import minimize \n",
    "from scipy.optimize import linprog\n",
    "from gekko import GEKKO\n",
    "import random"
   ]
  },
  {
   "cell_type": "markdown",
   "metadata": {},
   "source": [
    "# Solving using the GEKKO API"
   ]
  },
  {
   "cell_type": "code",
   "execution_count": 9,
   "metadata": {},
   "outputs": [],
   "source": [
    "# initializing and defining decision variables\n",
    "def decision_variables(solver,n):\n",
    "    \"\"\"solver: as defined by GEKKO\n",
    "        n : desired number of pipes\n",
    "        output: decision variables with defined as per GEKKO solver\"\"\"\n",
    "    random.seed(18)\n",
    "    x0 = random.sample(range(1, n+1), n) # intitializing using random sample\n",
    "    intitialized_decision_variables = []\n",
    "    for y in range(n):\n",
    "        y = solver.Var(value = x0[y], lb=1,ub=n,integer = True)\n",
    "        intitialized_decision_variables.append(y)\n",
    "    return intitialized_decision_variables"
   ]
  },
  {
   "cell_type": "code",
   "execution_count": 3,
   "metadata": {},
   "outputs": [],
   "source": [
    "#single term computations as part of computing the objective function\n",
    "# we get all the terms of interest from here\n",
    "#y,p come from the table then var comes for the defining under GEKKO\n",
    "def individual_pipe_expected_costs(dataframe,var):\n",
    "    \"\"\" dataframe containing individual pipe water loss estimates\n",
    "        and corresponding pipe leak probability estimate.\n",
    "        var : instantiated variables according to the number of decision \n",
    "             variables.\n",
    "       Output: list with individual pipe costs\"\"\"\n",
    "    y = list(dataframe.Estimated_water_loss)\n",
    "    p = list(dataframe.Pipe_leak_probability)\n",
    "    return [var[t]*y[t]*p[t] for t in range(len(var))]    "
   ]
  },
  {
   "cell_type": "code",
   "execution_count": 7,
   "metadata": {},
   "outputs": [],
   "source": [
    "def optimal_maintenance_sequence(dataframe):\n",
    "    \"\"\"Assuming daily updates, this optimization script can be run preferably in the morning\n",
    "        to provide an optimal sequence of how to go about fixing pipes in the distribution\n",
    "        system in order to minimize water losses.\n",
    "        Inputs a dataframe with details on estimated water losses and probility of leaks\n",
    "        for individual pipes in the distribution.\n",
    "    \"\"\"\n",
    "    sequence = []\n",
    "    n = len(dataframe)\n",
    "    M =n*100\n",
    "    episilon = 0.03    \n",
    "    m = GEKKO()\n",
    "    m.options.SOLVER=1\n",
    "    dcv = decision_variables(m,n) # declaring dv's n will come from the table passed on to us\n",
    "    objective_function_terms = individual_pipe_expected_costs(dataframe,dcv)\n",
    "    # Constraints \n",
    "    m.Equation(sum(dcv) ==  (n*(n+1))/2)\n",
    "    for i in range(n):\n",
    "            for j in range(n):                \n",
    "                if i<j:\n",
    "                    delta = 1\n",
    "                    m.Equation(abs(dcv[i] - dcv[j]) <= (-1* episilon) + (M * delta))\n",
    "                    m.Equation(abs(dcv[i] - dcv[j]) >= episilon - (1-delta)* M)\n",
    "    m.Obj(sum(objective_function_terms))\n",
    "    m.solve(disp = False)\n",
    "    for d in range(len(dcv)):\n",
    "        sequence.append(dcv[d].value)\n",
    "    return(sequence)"
   ]
  },
  {
   "cell_type": "markdown",
   "metadata": {},
   "source": [
    "### Source for technique to handle the constraint $x_i \\neq x_j$. \n",
    "\n",
    "https://math.stackexchange.com/questions/37075/how-can-not-equals-be-expressed-as-an-inequality-for-a-linear-programming-model/1517850"
   ]
  },
  {
   "cell_type": "code",
   "execution_count": 10,
   "metadata": {},
   "outputs": [],
   "source": [
    "# Test_data\n",
    "\n",
    "columns = ['Pipe_id','Estimated_water_loss','Pipe_leak_probability']\n",
    "rows = [['P1',1.5,0.35],['P2',1.25,0.4],['P3',1.1,0.9],['P4',1.4,0.6],['P5',1.45,0.5]]\n",
    "df1 = pd.DataFrame(rows, columns = columns)"
   ]
  },
  {
   "cell_type": "code",
   "execution_count": 11,
   "metadata": {},
   "outputs": [
    {
     "data": {
      "text/plain": [
       "[[4.0], [5.0], [2.0], [1.0], [3.0]]"
      ]
     },
     "execution_count": 11,
     "metadata": {},
     "output_type": "execute_result"
    }
   ],
   "source": [
    "optimal_maintenance_sequence(df1)"
   ]
  },
  {
   "cell_type": "code",
   "execution_count": null,
   "metadata": {},
   "outputs": [],
   "source": []
  }
 ],
 "metadata": {
  "kernelspec": {
   "display_name": "Msproject",
   "language": "python",
   "name": "msproject"
  },
  "language_info": {
   "codemirror_mode": {
    "name": "ipython",
    "version": 3
   },
   "file_extension": ".py",
   "mimetype": "text/x-python",
   "name": "python",
   "nbconvert_exporter": "python",
   "pygments_lexer": "ipython3",
   "version": "3.7.3"
  }
 },
 "nbformat": 4,
 "nbformat_minor": 4
}
