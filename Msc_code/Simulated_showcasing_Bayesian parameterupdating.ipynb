{
 "cells": [
  {
   "cell_type": "code",
   "execution_count": 1,
   "metadata": {
    "collapsed": true
   },
   "outputs": [],
   "source": [
    "import pandas as pd\n",
    "import numpy as np\n",
    "from pgmpy.models import BayesianModel\n",
    "from pgmpy.estimators import BayesianEstimator\n",
    "from pgmpy.factors.discrete import TabularCPD\n",
    "import warnings\n",
    "warnings.filterwarnings('ignore')"
   ]
  },
  {
   "cell_type": "markdown",
   "metadata": {},
   "source": [
    "# Nodes in the network \n",
    "### Adapted from;\n",
    "Ogutu, A.G., Kogeda, O.P. and Lall, M., 2018. A Probabilistic Assessment of Location Dependent Failure Trends in South African Water Distribution Networks. In Proceedings of the International MultiConference of Engineers and Computer Scientists (Vol. 1).\n",
    "\n",
    "### Variable names and abbreviations;\n",
    "Soil_type = St ;\n",
    "Material_type = Mt ;\n",
    "Diameter = Di ; \n",
    "Location = Lo ;\n",
    "Strain = Sn ;\n",
    "Damage = Dg ;\n",
    "Defects = Df ;\n",
    "Corrosion = Cr ;\n",
    "Leakage = Lk ;"
   ]
  },
  {
   "cell_type": "code",
   "execution_count": 2,
   "metadata": {
    "collapsed": true
   },
   "outputs": [],
   "source": [
    "# Defining the model structure. We can define the network by just passing a list of edges.\n",
    "model = BayesianModel([('St', 'Cr'), ('Mt', 'Cr'), ('Di', 'Dg'), ('Lo', 'Sn'), ('Sn', 'Dg'), ('Cr', 'Lk'), ('Dg', 'Lk'), ('Df', 'Lk')])\n"
   ]
  },
  {
   "cell_type": "code",
   "execution_count": 6,
   "metadata": {
    "collapsed": false
   },
   "outputs": [
    {
     "name": "stderr",
     "output_type": "stream",
     "text": [
      "WARNING:root:Replacing existing CPD for St\n",
      "WARNING:root:Replacing existing CPD for Mt\n",
      "WARNING:root:Replacing existing CPD for Di\n",
      "WARNING:root:Replacing existing CPD for Lo\n",
      "WARNING:root:Replacing existing CPD for Sn\n",
      "WARNING:root:Replacing existing CPD for Df\n",
      "WARNING:root:Replacing existing CPD for Cr\n",
      "WARNING:root:Replacing existing CPD for Dg\n",
      "WARNING:root:Replacing existing CPD for Lk\n"
     ]
    },
    {
     "data": {
      "text/plain": [
       "True"
      ]
     },
     "execution_count": 6,
     "metadata": {},
     "output_type": "execute_result"
    }
   ],
   "source": [
    "# Defining individual CPDs.\n",
    "cpd_St = TabularCPD(variable='St', variable_card=2, values=[[0.078, 0.922]])\n",
    "cpd_Mt = TabularCPD(variable='Mt', variable_card=4, values=[[0.057, 0.34, 0.157, 0.446]])\n",
    "cpd_Di = TabularCPD(variable='Di', variable_card=3, values=[[0.546, 0.35, 0.104]])\n",
    "cpd_Lo = TabularCPD(variable='Lo', variable_card=2, values=[[0.633, 0.367]])\n",
    "cpd_Df = TabularCPD(variable='Df', variable_card=2, values=[[0.02, 0.98]])\n",
    "\n",
    "cpd_Sn = TabularCPD(variable='Sn', variable_card=3, \n",
    "                   values=[[0.12, 0.64],\n",
    "                           [0.52, 0.2],\n",
    "                           [0.36, 0.16]],                          \n",
    "                  evidence=['Lo'],\n",
    "                  evidence_card=[2])\n",
    "\n",
    "cpd_Cr = TabularCPD(variable='Cr', variable_card=2, \n",
    "                   values=[[0.04, 0.29, 0.0, 0.0, 0.04, 0.29, 0.0, 0.0],\n",
    "                           [0.96, 0.71, 1.0, 1.0, 0.96, 0.71, 1, 1]],                          \n",
    "                  evidence=['St', 'Mt'],\n",
    "                  evidence_card=[2, 4])\n",
    "\n",
    "cpd_Dg = TabularCPD(variable='Dg', variable_card=2, \n",
    "                   values=[[0.12, 0.027, 0.025, 0.16, 0.12, 0.08, 0.64, 0.52, 0.44],\n",
    "                           [0.88, 0.973, 0.975, 0.84, 0.88, 0.92, 0.36, 0.48, 0.56]],                          \n",
    "                  evidence=['Sn', 'Di'],\n",
    "                  evidence_card=[3, 3])\n",
    "cpd_Lk = TabularCPD(variable='Lk', variable_card=2, \n",
    "                   values=[[0, 0.02, 0.012, 0.05, 0.5, 0.5, 0.512, 0.98],\n",
    "                           [1, 0.98, 0.988, 0.95, 0.5, 0.5, 0.488, 0.02]],                          \n",
    "                  evidence=['Dg', 'Cr', 'Df'],\n",
    "                  evidence_card=[2, 2, 2])\n",
    "model.add_cpds(cpd_St, cpd_Mt, cpd_Di, cpd_Lo, cpd_Sn, cpd_Df, cpd_Cr, cpd_Dg, cpd_Lk)\n",
    "model.check_model()\n"
   ]
  },
  {
   "cell_type": "code",
   "execution_count": 7,
   "metadata": {
    "collapsed": false,
    "scrolled": true
   },
   "outputs": [
    {
     "data": {
      "text/plain": [
       "[<TabularCPD representing P(St:2) at 0x7f01c9818240>,\n",
       " <TabularCPD representing P(Mt:4) at 0x7f01c9818048>,\n",
       " <TabularCPD representing P(Di:3) at 0x7f01c9818160>,\n",
       " <TabularCPD representing P(Lo:2) at 0x7f01c98181d0>,\n",
       " <TabularCPD representing P(Sn:3 | Lo:2) at 0x7f01c9818128>,\n",
       " <TabularCPD representing P(Df:2) at 0x7f01c9818208>,\n",
       " <TabularCPD representing P(Cr:2 | St:2, Mt:4) at 0x7f01c9818278>,\n",
       " <TabularCPD representing P(Dg:2 | Sn:3, Di:3) at 0x7f01c98182e8>,\n",
       " <TabularCPD representing P(Lk:2 | Dg:2, Cr:2, Df:2) at 0x7f01c98182b0>]"
      ]
     },
     "execution_count": 7,
     "metadata": {},
     "output_type": "execute_result"
    }
   ],
   "source": [
    "# We can now call some methods on the BayesianModel object.\n",
    "model.get_cpds()"
   ]
  },
  {
   "cell_type": "code",
   "execution_count": 9,
   "metadata": {
    "collapsed": false
   },
   "outputs": [
    {
     "name": "stdout",
     "output_type": "stream",
     "text": [
      "+------+-------+\n",
      "| St_0 | 0.078 |\n",
      "+------+-------+\n",
      "| St_1 | 0.922 |\n",
      "+------+-------+\n"
     ]
    }
   ],
   "source": [
    "# Printing a CPD which doesn't have state names defined.\n",
    "print(cpd_St)"
   ]
  },
  {
   "cell_type": "code",
   "execution_count": 2,
   "metadata": {
    "collapsed": true
   },
   "outputs": [],
   "source": [
    "p_a = np.ones((2,1))\n",
    "p_c = np.ones((2,4))"
   ]
  },
  {
   "cell_type": "code",
   "execution_count": 3,
   "metadata": {
    "collapsed": false,
    "scrolled": false
   },
   "outputs": [
    {
     "name": "stdout",
     "output_type": "stream",
     "text": [
      "+------+--------------------+--------------------+--------------------+------+\n",
      "| A    | A(0)               | A(0)               | A(1)               | A(1) |\n",
      "+------+--------------------+--------------------+--------------------+------+\n",
      "| B    | B(0)               | B(1)               | B(0)               | B(1) |\n",
      "+------+--------------------+--------------------+--------------------+------+\n",
      "| C(0) | 0.3333333333333333 | 0.3333333333333333 | 0.6666666666666666 | 0.5  |\n",
      "+------+--------------------+--------------------+--------------------+------+\n",
      "| C(1) | 0.6666666666666666 | 0.6666666666666666 | 0.3333333333333333 | 0.5  |\n",
      "+------+--------------------+--------------------+--------------------+------+\n",
      "+------+-----+\n",
      "| A(0) | 0.6 |\n",
      "+------+-----+\n",
      "| A(1) | 0.4 |\n",
      "+------+-----+\n"
     ]
    }
   ],
   "source": [
    "# start of with 3 data points\n",
    "data = pd.DataFrame(data={'A': [0, 0, 1], 'B': [0, 1, 0], 'C': [1, 1, 0]})\n",
    "model = BayesianModel([('A', 'C'), ('B', 'C')])\n",
    "estimator = BayesianEstimator(model, data)\n",
    "cpd_C = estimator.estimate_cpd('C', prior_type=\"dirichlet\", pseudo_counts= p_c)\n",
    "cpd_A = estimator.estimate_cpd('A', prior_type=\"dirichlet\", pseudo_counts= p_a)\n",
    "print(cpd_C)\n",
    "print(cpd_A)"
   ]
  },
  {
   "cell_type": "code",
   "execution_count": 4,
   "metadata": {
    "collapsed": false,
    "scrolled": true
   },
   "outputs": [
    {
     "name": "stdout",
     "output_type": "stream",
     "text": [
      "+------+--------------------+------+------+--------------------+\n",
      "| A    | A(0)               | A(0) | A(1) | A(1)               |\n",
      "+------+--------------------+------+------+--------------------+\n",
      "| B    | B(0)               | B(1) | B(0) | B(1)               |\n",
      "+------+--------------------+------+------+--------------------+\n",
      "| C(0) | 0.3333333333333333 | 0.25 | 0.75 | 0.6666666666666666 |\n",
      "+------+--------------------+------+------+--------------------+\n",
      "| C(1) | 0.6666666666666666 | 0.75 | 0.25 | 0.3333333333333333 |\n",
      "+------+--------------------+------+------+--------------------+\n",
      "+------+-----+\n",
      "| A(0) | 0.5 |\n",
      "+------+-----+\n",
      "| A(1) | 0.5 |\n",
      "+------+-----+\n"
     ]
    }
   ],
   "source": [
    "#data = pd.DataFrame(data={'A': [0, 0, 1], 'B': [0, 1, 0], 'C': [1, 1, 0]})\n",
    "#model = BayesianModel([('A', 'C'), ('B', 'C')])\n",
    "alpha1A = p_a + estimator.state_counts('A').values\n",
    "alpha1C = p_c + estimator.state_counts('C').values\n",
    "data2 = pd.DataFrame(data={'A': [1, 0, 1], 'B': [1, 1, 0], 'C': [0, 1, 0]})\n",
    "estimator2 = BayesianEstimator(model, data2)\n",
    "cpd_C = estimator2.estimate_cpd('C', prior_type=\"dirichlet\", pseudo_counts= alpha1C)\n",
    "cpd_A = estimator2.estimate_cpd('A', prior_type=\"dirichlet\", pseudo_counts= alpha1A)\n",
    "print(cpd_C)\n",
    "print(cpd_A)"
   ]
  },
  {
   "cell_type": "code",
   "execution_count": 6,
   "metadata": {
    "collapsed": false
   },
   "outputs": [
    {
     "name": "stdout",
     "output_type": "stream",
     "text": [
      "+------+--------------------+------+------+--------------------+\n",
      "| A    | A(0)               | A(0) | A(1) | A(1)               |\n",
      "+------+--------------------+------+------+--------------------+\n",
      "| B    | B(0)               | B(1) | B(0) | B(1)               |\n",
      "+------+--------------------+------+------+--------------------+\n",
      "| C(0) | 0.3333333333333333 | 0.25 | 0.75 | 0.6666666666666666 |\n",
      "+------+--------------------+------+------+--------------------+\n",
      "| C(1) | 0.6666666666666666 | 0.75 | 0.25 | 0.3333333333333333 |\n",
      "+------+--------------------+------+------+--------------------+\n",
      "+------+-----+\n",
      "| A(0) | 0.5 |\n",
      "+------+-----+\n",
      "| A(1) | 0.5 |\n",
      "+------+-----+\n"
     ]
    }
   ],
   "source": [
    "# Checking if updated instance leads to the same parameter estimates if data where observed at once\n",
    "datat = pd.DataFrame(data={'A': [0, 0, 1, 1, 0, 1], 'B': [0, 1, 0, 1, 1, 0], 'C': [1, 1, 0, 0, 1, 0]})\n",
    "modelt = BayesianModel([('A', 'C'), ('B', 'C')])\n",
    "estimatort = BayesianEstimator(model, datat)\n",
    "cpd_C = estimatort.estimate_cpd('C', prior_type=\"dirichlet\", pseudo_counts= p_c)\n",
    "cpd_A = estimatort.estimate_cpd('A', prior_type=\"dirichlet\", pseudo_counts= p_a)\n",
    "print(cpd_C)\n",
    "print(cpd_A)"
   ]
  },
  {
   "cell_type": "code",
   "execution_count": null,
   "metadata": {
    "collapsed": false,
    "scrolled": true
   },
   "outputs": [],
   "source": []
  },
  {
   "cell_type": "code",
   "execution_count": null,
   "metadata": {
    "collapsed": true
   },
   "outputs": [],
   "source": [
    "x = np.random.multinomial(n=6, pvals=[1/6, 1/6, 1/6, 1/6, 1/6, 1/6],size = 10)\n",
    "print(x)"
   ]
  },
  {
   "cell_type": "code",
   "execution_count": 56,
   "metadata": {
    "collapsed": false
   },
   "outputs": [],
   "source": [
    "# Dataframe for example discretized variables\n",
    "pipe_diameter = np.random.randint(0, 3 + 1, size = 10)\n",
    "Failure_risk = \n",
    "Soil_type = \n",
    "pipe_material"
   ]
  },
  {
   "cell_type": "code",
   "execution_count": 30,
   "metadata": {
    "collapsed": false
   },
   "outputs": [
    {
     "data": {
      "text/plain": [
       "(2, 4)"
      ]
     },
     "execution_count": 30,
     "metadata": {},
     "output_type": "execute_result"
    }
   ],
   "source": [
    "estimator.state_counts('C').values.shape"
   ]
  },
  {
   "cell_type": "code",
   "execution_count": 26,
   "metadata": {
    "collapsed": false
   },
   "outputs": [
    {
     "name": "stdout",
     "output_type": "stream",
     "text": [
      "[[2]\n",
      " [1]]\n"
     ]
    }
   ],
   "source": [
    "#counts = estimator.state_counts('A')\n",
    "print(estimator.state_counts('A').values)"
   ]
  },
  {
   "cell_type": "code",
   "execution_count": 11,
   "metadata": {
    "collapsed": false
   },
   "outputs": [],
   "source": [
    "alpha2A = alpha1A + estimator2.state_counts('A').values\n",
    "alpha2C = alpha1C + estimator2.state_counts('C').values\n",
    "data3 = pd.DataFrame(data={'A': [1, 1, 0], 'B': [0, 0, 1], 'C': [1, 1, 0]})\n",
    "estimator3 = BayesianEstimator(model, data3)\n",
    "cpd_C = estimator3.estimate_cpd('C', prior_type=\"dirichlet\", pseudo_counts= alpha2C)\n",
    "cpd_A = estimator3.estimate_cpd('A', prior_type=\"dirichlet\", pseudo_counts= alpha2A)\n",
    "print(cpd_C)\n",
    "print(cpd_A)"
   ]
  },
  {
   "cell_type": "code",
   "execution_count": 14,
   "metadata": {
    "collapsed": false
   },
   "outputs": [],
   "source": [
    "data2 = pd.DataFrame(data={'A': [1, 0, 1], 'B': [1, 1, 1], 'C': [0, 1, 0]})"
   ]
  },
  {
   "cell_type": "code",
   "execution_count": 60,
   "metadata": {
    "collapsed": false
   },
   "outputs": [
    {
     "data": {
      "text/plain": [
       "[<TabularCPD representing P(A:2) at 0x7ff07f344080>,\n",
       " <TabularCPD representing P(B:2 | A:2, C:2) at 0x7ff07f175908>,\n",
       " <TabularCPD representing P(C:2) at 0x7ff07f344d30>,\n",
       " <TabularCPD representing P(D:2 | C:2) at 0x7ff07f175b00>]"
      ]
     },
     "execution_count": 60,
     "metadata": {},
     "output_type": "execute_result"
    }
   ],
   "source": [
    "values = pd.DataFrame(np.random.randint(low=0, high=2, size=(1000, 4)),\n",
    "                       columns=['A', 'B', 'C', 'D'])\n",
    "model = BayesianModel([('A', 'B'), ('C', 'B'), ('C', 'D')])\n",
    "estimator = BayesianEstimator(model, values)\n",
    "estimator.get_parameters(prior_type='BDeu', equivalent_sample_size=5)"
   ]
  },
  {
   "cell_type": "code",
   "execution_count": null,
   "metadata": {
    "collapsed": true
   },
   "outputs": [],
   "source": [
    "estimator"
   ]
  }
 ],
 "metadata": {
  "kernelspec": {
   "display_name": "py3tst",
   "language": "python",
   "name": "py3tst"
  },
  "language_info": {
   "codemirror_mode": {
    "name": "ipython",
    "version": 3
   },
   "file_extension": ".py",
   "mimetype": "text/x-python",
   "name": "python",
   "nbconvert_exporter": "python",
   "pygments_lexer": "ipython3",
   "version": "3.6.8"
  }
 },
 "nbformat": 4,
 "nbformat_minor": 2
}
